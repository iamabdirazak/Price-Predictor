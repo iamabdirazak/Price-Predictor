{
 "cells": [
  {
   "cell_type": "markdown",
   "id": "e1ec4335",
   "metadata": {},
   "source": [
    "## Section 1: Data Handling"
   ]
  },
  {
   "cell_type": "markdown",
   "id": "5d09c7c7",
   "metadata": {},
   "source": [
    "### 1.1 Data Mining"
   ]
  },
  {
   "cell_type": "code",
   "execution_count": 1,
   "id": "a767bd7c",
   "metadata": {},
   "outputs": [],
   "source": [
    "import pandas as pd"
   ]
  },
  {
   "cell_type": "code",
   "execution_count": 2,
   "id": "e3efa37c",
   "metadata": {},
   "outputs": [],
   "source": [
    "import numpy as np"
   ]
  },
  {
   "cell_type": "markdown",
   "id": "a26ede69",
   "metadata": {},
   "source": [
    "### 1.2 Data Cleaning"
   ]
  },
  {
   "cell_type": "code",
   "execution_count": null,
   "id": "ca5f0042",
   "metadata": {},
   "outputs": [
    {
     "name": "stdout",
     "output_type": "stream",
     "text": [
      "None\n"
     ]
    }
   ],
   "source": [
    "np.random.seed(42)"
   ]
  },
  {
   "cell_type": "code",
   "execution_count": null,
   "id": "48192531",
   "metadata": {},
   "outputs": [],
   "source": []
  },
  {
   "cell_type": "markdown",
   "id": "3ee9216c",
   "metadata": {},
   "source": [
    "### 1.3 Data Exploration"
   ]
  },
  {
   "cell_type": "code",
   "execution_count": null,
   "id": "d745e474",
   "metadata": {},
   "outputs": [],
   "source": []
  },
  {
   "cell_type": "markdown",
   "id": "b970eeac",
   "metadata": {},
   "source": [
    "### 1.4 Data Transformation"
   ]
  },
  {
   "cell_type": "code",
   "execution_count": null,
   "id": "310de4b1",
   "metadata": {},
   "outputs": [],
   "source": []
  },
  {
   "cell_type": "markdown",
   "id": "028139ea",
   "metadata": {},
   "source": [
    "## Section 2: Data Modeling"
   ]
  },
  {
   "cell_type": "markdown",
   "id": "4f497b26",
   "metadata": {},
   "source": []
  }
 ],
 "metadata": {
  "kernelspec": {
   "display_name": "Python 3",
   "language": "python",
   "name": "python3"
  },
  "language_info": {
   "codemirror_mode": {
    "name": "ipython",
    "version": 3
   },
   "file_extension": ".py",
   "mimetype": "text/x-python",
   "name": "python",
   "nbconvert_exporter": "python",
   "pygments_lexer": "ipython3",
   "version": "3.13.5"
  }
 },
 "nbformat": 4,
 "nbformat_minor": 5
}
